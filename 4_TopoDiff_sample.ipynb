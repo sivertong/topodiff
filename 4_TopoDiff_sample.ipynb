{
 "cells": [
  {
   "cell_type": "markdown",
   "id": "4840f427",
   "metadata": {},
   "source": [
    "# TopoDiff sample"
   ]
  },
  {
   "attachments": {},
   "cell_type": "markdown",
   "id": "8e9ae12d",
   "metadata": {},
   "source": [
    "#### This notebook aims to launch a generation of topologies by TopoDiff, with a set of constraints given as input. Three trained models are needed to sample from TopoDiff: the main diffusion model, the classifier and the regressor. To load the trained models, you must specify the location of the checkpoints (either downloaded or gotten from your own trainings)."
   ]
  },
  {
   "cell_type": "code",
   "execution_count": 1,
   "id": "02a50a8d",
   "metadata": {},
   "outputs": [],
   "source": [
    "import torch as th\n",
    "import numpy as np\n",
    "import matplotlib.pyplot as plt\n",
    "import os\n",
    "import pytorch_fid\n",
    "import cv2\n",
    "import sys"
   ]
  },
  {
   "cell_type": "markdown",
   "source": [
    "The environment variable 'TOPODIFF_LOGDIR' defines the directory where the logs and generated topologies will be saved."
   ],
   "metadata": {
    "collapsed": false
   }
  },
  {
   "cell_type": "code",
   "execution_count": 2,
   "id": "ddfa94a6",
   "metadata": {},
   "outputs": [],
   "source": [
    "os.environ['TOPODIFF_LOGDIR'] = './generated'"
   ]
  },
  {
   "cell_type": "markdown",
   "id": "cb242b8b",
   "metadata": {},
   "source": [
    "The 'MODEL_FLAGS' and 'DIFFUSION_FLAGS' set the model and diffusion hyperparameters. They need to fit with the parameters that were used when training the corresponding models.\n",
    "\n",
    "The default values indicated below correspond to the hyperparameters indicated in the Appendix to the paper."
   ]
  },
  {
   "cell_type": "code",
   "execution_count": null,
   "id": "d6e16466",
   "metadata": {},
   "outputs": [],
   "source": [
    "MODEL_FLAGS=\"--image_size 64 --num_channels 128 --num_res_blocks 3 --learn_sigma True --dropout 0.3 --use_fp16 True\"\n",
    "DIFFUSION_FLAGS=\"--diffusion_steps 1000 --timestep_respacing 100 --noise_schedule cosine\""
   ]
  },
  {
   "cell_type": "markdown",
   "id": "2d50d4c0",
   "metadata": {},
   "source": [
    "The 'DATA_FLAGS' indicate the directory where the input constraints are. All inputs (physical fields, load arrays, boundary conditions arrays) need to be in the same directory (done by default in the data directory that we provide you with).\n",
    "\n",
    "**You may change the 'DATA_FLAGS' to sample from the level 1 or level 2 test set.**"
   ]
  },
  {
   "cell_type": "code",
   "execution_count": null,
   "id": "d7ab55cb",
   "metadata": {},
   "outputs": [],
   "source": [
    "DATA_FLAGS=\"--constraints_path ./data/dataset_1_diff/test_data_level_1 --num_samples 5\""
   ]
  },
  {
   "cell_type": "markdown",
   "id": "a7ed17d8",
   "metadata": {},
   "source": [
    "The 'CHECKPOINTS_FLAGS' indicate where the checkpoints for the diffusion model, the regressor and the classifier are. **You need to indicate the directory where the trained models are.**"
   ]
  },
  {
   "cell_type": "code",
   "execution_count": null,
   "id": "c4b987a9",
   "metadata": {},
   "outputs": [],
   "source": [
    "CHECKPOINTS_FLAGS=\"--model_path ./checkpoints/diff_logdir --regressor_path ./checkpoints/TO_INDICATE --fm_classifier_path ./checkpoints/TO_INDICATE\""
   ]
  },
  {
   "cell_type": "code",
   "execution_count": 1,
   "id": "d2abf0a1",
   "metadata": {
    "ExecuteTime": {
     "start_time": "2023-12-15T20:02:01.364893Z",
     "end_time": "2023-12-15T20:02:04.046301Z"
    }
   },
   "outputs": [
    {
     "name": "stderr",
     "output_type": "stream",
     "text": [
      "usage: topodiff_sample.py [-h] [--clip_denoised CLIP_DENOISED]\n",
      "                          [--num_samples NUM_SAMPLES]\n",
      "                          [--batch_size BATCH_SIZE] [--use_ddim USE_DDIM]\n",
      "                          [--model_path MODEL_PATH]\n",
      "                          [--regressor_path REGRESSOR_PATH]\n",
      "                          [--fm_classifier_path FM_CLASSIFIER_PATH]\n",
      "                          [--regressor_scale REGRESSOR_SCALE]\n",
      "                          [--classifier_fm_scale CLASSIFIER_FM_SCALE]\n",
      "                          [--constraints_path CONSTRAINTS_PATH]\n",
      "                          [--classifier_use_fp16 CLASSIFIER_USE_FP16]\n",
      "                          [--vf_regressor_use_fp16 VF_REGRESSOR_USE_FP16]\n",
      "                          [--fm_classifier_use_fp16 FM_CLASSIFIER_USE_FP16]\n",
      "                          [--image_size IMAGE_SIZE]\n",
      "                          [--num_channels NUM_CHANNELS]\n",
      "                          [--num_res_blocks NUM_RES_BLOCKS]\n",
      "                          [--num_heads NUM_HEADS]\n",
      "                          [--num_heads_upsample NUM_HEADS_UPSAMPLE]\n",
      "                          [--num_head_channels NUM_HEAD_CHANNELS]\n",
      "                          [--attention_resolutions ATTENTION_RESOLUTIONS]\n",
      "                          [--channel_mult CHANNEL_MULT] [--dropout DROPOUT]\n",
      "                          [--use_checkpoint USE_CHECKPOINT]\n",
      "                          [--use_scale_shift_norm USE_SCALE_SHIFT_NORM]\n",
      "                          [--resblock_updown RESBLOCK_UPDOWN]\n",
      "                          [--use_fp16 USE_FP16]\n",
      "                          [--use_new_attention_order USE_NEW_ATTENTION_ORDER]\n",
      "                          [--learn_sigma LEARN_SIGMA]\n",
      "                          [--diffusion_steps DIFFUSION_STEPS]\n",
      "                          [--noise_schedule NOISE_SCHEDULE]\n",
      "                          [--timestep_respacing TIMESTEP_RESPACING]\n",
      "                          [--use_kl USE_KL] [--predict_xstart PREDICT_XSTART]\n",
      "                          [--rescale_timesteps RESCALE_TIMESTEPS]\n",
      "                          [--rescale_learned_sigmas RESCALE_LEARNED_SIGMAS]\n",
      "                          [--class_cond CLASS_COND]\n",
      "                          [--regressor_use_fp16 REGRESSOR_USE_FP16]\n",
      "                          [--regressor_width REGRESSOR_WIDTH]\n",
      "                          [--regressor_attention_resolutions REGRESSOR_ATTENTION_RESOLUTIONS]\n",
      "                          [--regressor_use_scale_shift_norm REGRESSOR_USE_SCALE_SHIFT_NORM]\n",
      "                          [--regressor_resblock_updown REGRESSOR_RESBLOCK_UPDOWN]\n",
      "                          [--regressor_pool REGRESSOR_POOL]\n",
      "                          [--classifier_width CLASSIFIER_WIDTH]\n",
      "                          [--classifier_depth CLASSIFIER_DEPTH]\n",
      "                          [--classifier_attention_resolutions CLASSIFIER_ATTENTION_RESOLUTIONS]\n",
      "                          [--classifier_use_scale_shift_norm CLASSIFIER_USE_SCALE_SHIFT_NORM]\n",
      "                          [--classifier_resblock_updown CLASSIFIER_RESBLOCK_UPDOWN]\n",
      "                          [--classifier_pool CLASSIFIER_POOL]\n",
      "topodiff_sample.py: error: unrecognized arguments: $MODEL_FLAGS $DIFFUSION_FLAGS $DATA_FLAGS $CHECKPOINTS_FLAGS\n"
     ]
    },
    {
     "ename": "SystemExit",
     "evalue": "2",
     "output_type": "error",
     "traceback": [
      "An exception has occurred, use %tb to see the full traceback.\n",
      "\u001B[1;31mSystemExit\u001B[0m\u001B[1;31m:\u001B[0m 2\n"
     ]
    }
   ],
   "source": [
    "%run scripts/topodiff_sample.py --regressor_scale 4.0 --classifier_fm_scale 3.0 $MODEL_FLAGS $DIFFUSION_FLAGS $DATA_FLAGS $CHECKPOINTS_FLAGS"
   ]
  },
  {
   "cell_type": "markdown",
   "id": "3e401336",
   "metadata": {},
   "source": [
    "*Note: TopoDiff generates the topologies in a different order than the file names. We therefore recommend you use the notebook 5_analysis.ipynb to conduct the analysis of the results.*"
   ]
  }
 ],
 "metadata": {
  "kernelspec": {
   "display_name": "Python 3 (ipykernel)",
   "language": "python",
   "name": "python3"
  },
  "language_info": {
   "codemirror_mode": {
    "name": "ipython",
    "version": 3
   },
   "file_extension": ".py",
   "mimetype": "text/x-python",
   "name": "python",
   "nbconvert_exporter": "python",
   "pygments_lexer": "ipython3",
   "version": "3.10.8"
  }
 },
 "nbformat": 4,
 "nbformat_minor": 5
}
