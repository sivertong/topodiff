{
 "cells": [
  {
   "cell_type": "markdown",
   "id": "79880fac",
   "metadata": {},
   "source": [
    "# Floating material classifier training"
   ]
  },
  {
   "cell_type": "markdown",
   "id": "dcddf811",
   "metadata": {},
   "source": [
    "#### This notebook aims to launch the training of the classifier predicting the presence of floating material. This classifier is used in TopoDiff to guide the model in the direction of its gradient."
   ]
  },
  {
   "cell_type": "code",
   "execution_count": 1,
   "id": "d5536140",
   "metadata": {
    "ExecuteTime": {
     "start_time": "2023-11-27T21:33:58.084581Z",
     "end_time": "2023-11-27T21:34:02.208966Z"
    }
   },
   "outputs": [],
   "source": [
    "import torch as th\n",
    "import numpy as np\n",
    "import matplotlib.pyplot as plt\n",
    "import os\n",
    "import sys"
   ]
  },
  {
   "cell_type": "markdown",
   "id": "22264481",
   "metadata": {},
   "source": [
    "The environment variable 'TOPODIFF_LOGDIR' defines the directory where the logs and model checkpoints will be saved."
   ]
  },
  {
   "cell_type": "code",
   "execution_count": 2,
   "id": "ec846f05",
   "metadata": {
    "ExecuteTime": {
     "start_time": "2023-11-27T21:34:02.211964Z",
     "end_time": "2023-11-27T21:34:02.225163Z"
    }
   },
   "outputs": [],
   "source": [
    "os.environ['TOPODIFF_LOGDIR'] = './class_logdir'"
   ]
  },
  {
   "cell_type": "markdown",
   "id": "737b17dd",
   "metadata": {},
   "source": [
    "The 'TRAIN_FLAGS', 'CLASSIFIER_FLAGS' and 'DATA_FLAGS' respectively set the training parameters, the classifier hyperparameters and the directories where the training and validation data are.\n",
    "\n",
    "The default values indicated below correspond to the hyperparameters indicated in the Appendix to the paper."
   ]
  },
  {
   "cell_type": "code",
   "execution_count": 3,
   "id": "a0dc6606",
   "metadata": {
    "ExecuteTime": {
     "start_time": "2023-11-27T21:34:02.226595Z",
     "end_time": "2023-11-27T21:34:02.245199Z"
    }
   },
   "outputs": [],
   "source": [
    "TRAIN_FLAGS=\"--iterations 300000 --anneal_lr True --batch_size 8 --lr 3e-4 --save_interval 10000 --weight_decay 0.05\"\n",
    "CLASSIFIER_FLAGS=\"--image_size 64 --classifier_attention_resolutions 32,16,8 --classifier_depth 2 --classifier_width 128 --classifier_pool attention --classifier_resblock_updown True --classifier_use_scale_shift_norm True\""
   ]
  },
  {
   "cell_type": "markdown",
   "id": "a6a7c491",
   "metadata": {},
   "source": [
    "In order to run the training, make sure you have placed the data folder at the root of this directory.\n",
    "\n",
    "All the images and the label array must be altogether in the same folder (done by default in the data directory that we provide you with)."
   ]
  },
  {
   "cell_type": "code",
   "execution_count": 4,
   "id": "c116a8cd",
   "metadata": {
    "ExecuteTime": {
     "start_time": "2023-11-27T21:34:02.240609Z",
     "end_time": "2023-11-27T21:34:02.256197Z"
    }
   },
   "outputs": [],
   "source": [
    "DATA_FLAGS=\"--data_dir ./data/dataset_3_class/training_data --val_data_dir ./data/dataset_3_class/validation_data --noised True\""
   ]
  },
  {
   "cell_type": "code",
   "execution_count": 5,
   "id": "49df8c67",
   "metadata": {
    "ExecuteTime": {
     "start_time": "2023-11-27T21:34:02.258197Z",
     "end_time": "2023-11-27T21:34:03.151073Z"
    }
   },
   "outputs": [
    {
     "name": "stdout",
     "output_type": "stream",
     "text": [
      "Logging to ./class_logdir\n",
      "creating model and diffusion...\n"
     ]
    },
    {
     "ename": "ValueError",
     "evalue": "DistributedDataParallel device_ids and output_device arguments only work with single-device/multiple-device GPU modules or CPU modules, but got device_ids [device(type='cpu')], output_device cpu, and module parameters {device(type='cpu')}.",
     "output_type": "error",
     "traceback": [
      "\u001B[1;31m---------------------------------------------------------------------------\u001B[0m",
      "\u001B[1;31mValueError\u001B[0m                                Traceback (most recent call last)",
      "File \u001B[1;32mD:\\CodeSave\\GitCode\\topodiff\\scripts\\classifier_floating_mat_train.py:220\u001B[0m\n\u001B[0;32m    216\u001B[0m     \u001B[38;5;28;01mreturn\u001B[39;00m parser\n\u001B[0;32m    219\u001B[0m \u001B[38;5;28;01mif\u001B[39;00m \u001B[38;5;18m__name__\u001B[39m \u001B[38;5;241m==\u001B[39m \u001B[38;5;124m\"\u001B[39m\u001B[38;5;124m__main__\u001B[39m\u001B[38;5;124m\"\u001B[39m:\n\u001B[1;32m--> 220\u001B[0m     \u001B[43mmain\u001B[49m\u001B[43m(\u001B[49m\u001B[43m)\u001B[49m\n",
      "File \u001B[1;32mD:\\CodeSave\\GitCode\\topodiff\\scripts\\classifier_floating_mat_train.py:65\u001B[0m, in \u001B[0;36mmain\u001B[1;34m()\u001B[0m\n\u001B[0;32m     59\u001B[0m dist_util\u001B[38;5;241m.\u001B[39msync_params(model\u001B[38;5;241m.\u001B[39mparameters())\n\u001B[0;32m     61\u001B[0m mp_trainer \u001B[38;5;241m=\u001B[39m MixedPrecisionTrainer(\n\u001B[0;32m     62\u001B[0m     model\u001B[38;5;241m=\u001B[39mmodel, use_fp16\u001B[38;5;241m=\u001B[39margs\u001B[38;5;241m.\u001B[39mclassifier_use_fp16, initial_lg_loss_scale\u001B[38;5;241m=\u001B[39m\u001B[38;5;241m16.0\u001B[39m\n\u001B[0;32m     63\u001B[0m )\n\u001B[1;32m---> 65\u001B[0m model \u001B[38;5;241m=\u001B[39m \u001B[43mDDP\u001B[49m\u001B[43m(\u001B[49m\n\u001B[0;32m     66\u001B[0m \u001B[43m    \u001B[49m\u001B[43mmodel\u001B[49m\u001B[43m,\u001B[49m\n\u001B[0;32m     67\u001B[0m \u001B[43m    \u001B[49m\u001B[43mdevice_ids\u001B[49m\u001B[38;5;241;43m=\u001B[39;49m\u001B[43m[\u001B[49m\u001B[43mdist_util\u001B[49m\u001B[38;5;241;43m.\u001B[39;49m\u001B[43mdev\u001B[49m\u001B[43m(\u001B[49m\u001B[43m)\u001B[49m\u001B[43m]\u001B[49m\u001B[43m,\u001B[49m\n\u001B[0;32m     68\u001B[0m \u001B[43m    \u001B[49m\u001B[43moutput_device\u001B[49m\u001B[38;5;241;43m=\u001B[39;49m\u001B[43mdist_util\u001B[49m\u001B[38;5;241;43m.\u001B[39;49m\u001B[43mdev\u001B[49m\u001B[43m(\u001B[49m\u001B[43m)\u001B[49m\u001B[43m,\u001B[49m\n\u001B[0;32m     69\u001B[0m \u001B[43m    \u001B[49m\u001B[43mbroadcast_buffers\u001B[49m\u001B[38;5;241;43m=\u001B[39;49m\u001B[38;5;28;43;01mFalse\u001B[39;49;00m\u001B[43m,\u001B[49m\n\u001B[0;32m     70\u001B[0m \u001B[43m    \u001B[49m\u001B[43mbucket_cap_mb\u001B[49m\u001B[38;5;241;43m=\u001B[39;49m\u001B[38;5;241;43m128\u001B[39;49m\u001B[43m,\u001B[49m\n\u001B[0;32m     71\u001B[0m \u001B[43m    \u001B[49m\u001B[43mfind_unused_parameters\u001B[49m\u001B[38;5;241;43m=\u001B[39;49m\u001B[38;5;28;43;01mFalse\u001B[39;49;00m\u001B[43m,\u001B[49m\n\u001B[0;32m     72\u001B[0m \u001B[43m\u001B[49m\u001B[43m)\u001B[49m\n\u001B[0;32m     74\u001B[0m logger\u001B[38;5;241m.\u001B[39mlog(\u001B[38;5;124m\"\u001B[39m\u001B[38;5;124mcreating data loader...\u001B[39m\u001B[38;5;124m\"\u001B[39m)\n\u001B[0;32m     75\u001B[0m data \u001B[38;5;241m=\u001B[39m load_data(\n\u001B[0;32m     76\u001B[0m     data_dir\u001B[38;5;241m=\u001B[39margs\u001B[38;5;241m.\u001B[39mdata_dir,\n\u001B[0;32m     77\u001B[0m     batch_size\u001B[38;5;241m=\u001B[39margs\u001B[38;5;241m.\u001B[39mbatch_size,\n\u001B[0;32m     78\u001B[0m     image_size\u001B[38;5;241m=\u001B[39margs\u001B[38;5;241m.\u001B[39mimage_size\n\u001B[0;32m     79\u001B[0m )\n",
      "File \u001B[1;32m~\\.conda\\envs\\topodiff\\lib\\site-packages\\torch\\nn\\parallel\\distributed.py:712\u001B[0m, in \u001B[0;36mDistributedDataParallel.__init__\u001B[1;34m(self, module, device_ids, output_device, dim, broadcast_buffers, process_group, bucket_cap_mb, find_unused_parameters, check_reduction, gradient_as_bucket_view, static_graph, delay_all_reduce_named_params, param_to_hook_all_reduce, mixed_precision)\u001B[0m\n\u001B[0;32m    705\u001B[0m \u001B[38;5;28;01mif\u001B[39;00m (\n\u001B[0;32m    706\u001B[0m     device_ids \u001B[38;5;129;01mis\u001B[39;00m \u001B[38;5;28;01mNone\u001B[39;00m\n\u001B[0;32m    707\u001B[0m     \u001B[38;5;129;01mor\u001B[39;00m \u001B[38;5;28mlen\u001B[39m(device_ids) \u001B[38;5;241m==\u001B[39m \u001B[38;5;241m0\u001B[39m  \u001B[38;5;66;03m# For backward compatibility.\u001B[39;00m\n\u001B[0;32m    708\u001B[0m     \u001B[38;5;129;01mor\u001B[39;00m \u001B[38;5;28mself\u001B[39m\u001B[38;5;241m.\u001B[39mdevice_type \u001B[38;5;241m==\u001B[39m \u001B[38;5;124m\"\u001B[39m\u001B[38;5;124mcpu\u001B[39m\u001B[38;5;124m\"\u001B[39m\n\u001B[0;32m    709\u001B[0m     \u001B[38;5;129;01mor\u001B[39;00m \u001B[38;5;28mself\u001B[39m\u001B[38;5;241m.\u001B[39mis_multi_device_module\n\u001B[0;32m    710\u001B[0m ):\n\u001B[0;32m    711\u001B[0m     \u001B[38;5;28;01mif\u001B[39;00m device_ids \u001B[38;5;129;01mor\u001B[39;00m output_device:\n\u001B[1;32m--> 712\u001B[0m         \u001B[38;5;28;43mself\u001B[39;49m\u001B[38;5;241;43m.\u001B[39;49m\u001B[43m_log_and_throw\u001B[49m\u001B[43m(\u001B[49m\n\u001B[0;32m    713\u001B[0m \u001B[43m            \u001B[49m\u001B[38;5;167;43;01mValueError\u001B[39;49;00m\u001B[43m,\u001B[49m\n\u001B[0;32m    714\u001B[0m \u001B[43m            \u001B[49m\u001B[38;5;124;43m\"\u001B[39;49m\u001B[38;5;124;43mDistributedDataParallel device_ids and output_device arguments \u001B[39;49m\u001B[38;5;124;43m\"\u001B[39;49m\n\u001B[0;32m    715\u001B[0m \u001B[43m            \u001B[49m\u001B[38;5;124;43m\"\u001B[39;49m\u001B[38;5;124;43monly work with single-device/multiple-device GPU modules or CPU modules, \u001B[39;49m\u001B[38;5;124;43m\"\u001B[39;49m\n\u001B[0;32m    716\u001B[0m \u001B[43m            \u001B[49m\u001B[38;5;124;43m\"\u001B[39;49m\u001B[38;5;124;43mbut got device_ids \u001B[39;49m\u001B[38;5;132;43;01m{}\u001B[39;49;00m\u001B[38;5;124;43m, output_device \u001B[39;49m\u001B[38;5;132;43;01m{}\u001B[39;49;00m\u001B[38;5;124;43m, and module parameters \u001B[39;49m\u001B[38;5;132;43;01m{}\u001B[39;49;00m\u001B[38;5;124;43m.\u001B[39;49m\u001B[38;5;124;43m\"\u001B[39;49m\u001B[38;5;241;43m.\u001B[39;49m\u001B[43mformat\u001B[49m\u001B[43m(\u001B[49m\n\u001B[0;32m    717\u001B[0m \u001B[43m                \u001B[49m\u001B[43mdevice_ids\u001B[49m\u001B[43m,\u001B[49m\n\u001B[0;32m    718\u001B[0m \u001B[43m                \u001B[49m\u001B[43moutput_device\u001B[49m\u001B[43m,\u001B[49m\n\u001B[0;32m    719\u001B[0m \u001B[43m                \u001B[49m\u001B[43m{\u001B[49m\u001B[43mp\u001B[49m\u001B[38;5;241;43m.\u001B[39;49m\u001B[43mdevice\u001B[49m\u001B[43m \u001B[49m\u001B[38;5;28;43;01mfor\u001B[39;49;00m\u001B[43m \u001B[49m\u001B[43mp\u001B[49m\u001B[43m \u001B[49m\u001B[38;5;129;43;01min\u001B[39;49;00m\u001B[43m \u001B[49m\u001B[38;5;28;43mself\u001B[39;49m\u001B[38;5;241;43m.\u001B[39;49m\u001B[43m_module_parameters\u001B[49m\u001B[43m}\u001B[49m\u001B[43m,\u001B[49m\n\u001B[0;32m    720\u001B[0m \u001B[43m            \u001B[49m\u001B[43m)\u001B[49m\u001B[43m,\u001B[49m\n\u001B[0;32m    721\u001B[0m \u001B[43m        \u001B[49m\u001B[43m)\u001B[49m\n\u001B[0;32m    723\u001B[0m     \u001B[38;5;28mself\u001B[39m\u001B[38;5;241m.\u001B[39mdevice_ids \u001B[38;5;241m=\u001B[39m \u001B[38;5;28;01mNone\u001B[39;00m\n\u001B[0;32m    724\u001B[0m     \u001B[38;5;28mself\u001B[39m\u001B[38;5;241m.\u001B[39moutput_device \u001B[38;5;241m=\u001B[39m \u001B[38;5;28;01mNone\u001B[39;00m\n",
      "File \u001B[1;32m~\\.conda\\envs\\topodiff\\lib\\site-packages\\torch\\nn\\parallel\\distributed.py:1037\u001B[0m, in \u001B[0;36mDistributedDataParallel._log_and_throw\u001B[1;34m(self, err_type, err_msg)\u001B[0m\n\u001B[0;32m   1035\u001B[0m \u001B[38;5;28;01mif\u001B[39;00m \u001B[38;5;28mself\u001B[39m\u001B[38;5;241m.\u001B[39mlogger \u001B[38;5;129;01mis\u001B[39;00m \u001B[38;5;129;01mnot\u001B[39;00m \u001B[38;5;28;01mNone\u001B[39;00m:\n\u001B[0;32m   1036\u001B[0m     \u001B[38;5;28mself\u001B[39m\u001B[38;5;241m.\u001B[39mlogger\u001B[38;5;241m.\u001B[39mset_error_and_log(\u001B[38;5;124mf\u001B[39m\u001B[38;5;124m\"\u001B[39m\u001B[38;5;132;01m{\u001B[39;00m\u001B[38;5;28mstr\u001B[39m(err_type)\u001B[38;5;132;01m}\u001B[39;00m\u001B[38;5;124m: \u001B[39m\u001B[38;5;132;01m{\u001B[39;00merr_msg\u001B[38;5;132;01m}\u001B[39;00m\u001B[38;5;124m\"\u001B[39m)\n\u001B[1;32m-> 1037\u001B[0m \u001B[38;5;28;01mraise\u001B[39;00m err_type(err_msg)\n",
      "\u001B[1;31mValueError\u001B[0m: DistributedDataParallel device_ids and output_device arguments only work with single-device/multiple-device GPU modules or CPU modules, but got device_ids [device(type='cpu')], output_device cpu, and module parameters {device(type='cpu')}."
     ]
    }
   ],
   "source": [
    "%run scripts/classifier_floating_mat_train.py $TRAIN_FLAGS $CLASSIFIER_FLAGS $DATA_FLAGS"
   ]
  },
  {
   "cell_type": "markdown",
   "id": "069c9969",
   "metadata": {},
   "source": [
    "By the end of the training, you should get in the class_logdir a series of checkpoints. You can then use the last checkpoint as the classifier when sampling from TopoDiff (see the notebook **4_TopoDiff_sample**)."
   ]
  }
 ],
 "metadata": {
  "kernelspec": {
   "name": "python3",
   "language": "python",
   "display_name": "Python 3 (ipykernel)"
  },
  "language_info": {
   "codemirror_mode": {
    "name": "ipython",
    "version": 3
   },
   "file_extension": ".py",
   "mimetype": "text/x-python",
   "name": "python",
   "nbconvert_exporter": "python",
   "pygments_lexer": "ipython3",
   "version": "3.9.10"
  }
 },
 "nbformat": 4,
 "nbformat_minor": 5
}
